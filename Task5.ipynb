{
  "nbformat": 4,
  "nbformat_minor": 0,
  "metadata": {
    "colab": {
      "provenance": [],
      "authorship_tag": "ABX9TyOS2/AbxRASI2aLu3//xfu4",
      "include_colab_link": true
    },
    "kernelspec": {
      "name": "python3",
      "display_name": "Python 3"
    },
    "language_info": {
      "name": "python"
    }
  },
  "cells": [
    {
      "cell_type": "markdown",
      "metadata": {
        "id": "view-in-github",
        "colab_type": "text"
      },
      "source": [
        "<a href=\"https://colab.research.google.com/github/ucpawan/DataScience-/blob/main/Task5.ipynb\" target=\"_parent\"><img src=\"https://colab.research.google.com/assets/colab-badge.svg\" alt=\"Open In Colab\"/></a>"
      ]
    },
    {
      "cell_type": "code",
      "execution_count": 217,
      "metadata": {
        "id": "WJmxOMKVMxyX"
      },
      "outputs": [],
      "source": [
        "import pandas as pd\n",
        "import numpy as np\n",
        "import seaborn as sbn\n",
        "import plotly.express as px"
      ]
    },
    {
      "cell_type": "code",
      "source": [
        "data1=pd.read_csv(\"takehome_users.csv\",encoding=\"latin-1\")"
      ],
      "metadata": {
        "id": "frMIL5sJHe_i"
      },
      "execution_count": 3,
      "outputs": []
    },
    {
      "cell_type": "code",
      "source": [
        "data2=pd.read_csv(\"takehome_user_engagement.csv\")"
      ],
      "metadata": {
        "id": "C7d_cfmCP6If"
      },
      "execution_count": 4,
      "outputs": []
    },
    {
      "cell_type": "code",
      "source": [
        "ha_df=pd.merge(data1,data2,left_on=\"object_id\",right_on=\"user_id\",how=\"inner\")"
      ],
      "metadata": {
        "id": "dgbGAiHnH_J9"
      },
      "execution_count": 184,
      "outputs": []
    },
    {
      "cell_type": "markdown",
      "source": [
        "***Share of each mode through which customers have registered with the product.***"
      ],
      "metadata": {
        "id": "lvIYE5QsLB7U"
      }
    },
    {
      "cell_type": "markdown",
      "source": [
        "***From following graphical reprsentations we can conclude that,***\n",
        "\n",
        "1.Majority of the people have registered themselfs with the website/product through Organisation invite Mode.\n",
        "\n",
        "\n",
        "2.Signup with Google authentication is the mode through which very less number of persons have registered with the product/website.\n",
        "\n",
        "\n",
        " \n",
        "\n",
        "\n",
        "\n",
        "\n",
        "\n"
      ],
      "metadata": {
        "id": "CnWr9-68QItP"
      }
    },
    {
      "cell_type": "code",
      "source": [
        "#reprentation in Bar graph\n",
        "\n",
        "sbn.countplot(data=data1,y=\"creation_source\")"
      ],
      "metadata": {
        "id": "KPwHTlX2OlS6"
      },
      "execution_count": null,
      "outputs": []
    },
    {
      "cell_type": "code",
      "source": [
        "#representaion in Pie chart\n",
        "\n",
        "aa=data1[\"creation_source\"].value_counts()\n",
        "print(aa)\n",
        "ab=aa.to_frame().reset_index()\n",
        "ab.columns=[\"Mode\",\"Count\"]\n",
        "share=px.pie(ab,values=\"Count\",names=\"Mode\",hole=0.2)\n",
        "share"
      ],
      "metadata": {
        "id": "1rTSx2N6PAnO"
      },
      "execution_count": null,
      "outputs": []
    },
    {
      "cell_type": "markdown",
      "source": [
        "***Name of the top 5 persons who helped in making other people register themselfs with product/website by inviting them.***"
      ],
      "metadata": {
        "id": "hGBixyQNSsrM"
      }
    },
    {
      "cell_type": "code",
      "source": [
        "contru=data1[\"invited_by_user_id\"].value_counts().head(5)\n",
        "contru.index=contru.index.astype(int)\n",
        "info=data1.loc[data1[\"object_id\"].isin(contru.index),[\"name\",\"object_id\"]]\n",
        "clear=pd.merge(info,contru,left_on=\"object_id\",right_on=contru.index,how=\"inner\")\n",
        "clear.drop(\"object_id\",axis=1,inplace=True)\n",
        "clear.columns=[\"Name\",\"People_he_invited\"]\n",
        "clear.sort_values(by=\"People_he_invited\",ascending=False,ignore_index=True\n",
        "                  ,inplace=True)\n",
        "clear\n"
      ],
      "metadata": {
        "id": "EFIyNzYvR5cz"
      },
      "execution_count": null,
      "outputs": []
    },
    {
      "cell_type": "markdown",
      "source": [
        "***Tennant Piper is the person who tops the list in terms of making other people register themselfs with the website by inviting them.***"
      ],
      "metadata": {
        "id": "tTYihz_tE5vR"
      }
    },
    {
      "cell_type": "code",
      "source": [
        "#graphical representaion of the above one.\n",
        "\n",
        "fig=px.pie(clear,values=\"People_he_invited\",names=\"Name\",hole=0.3,\n",
        "           title=\"Share of top 5 persons who helped in making other people\" \n",
        "           \" register themselfs with product by inviting them.\")\n",
        "fig"
      ],
      "metadata": {
        "id": "wLrVybSDcsC5"
      },
      "execution_count": null,
      "outputs": []
    },
    {
      "cell_type": "markdown",
      "source": [
        "***ID's and Visits of people who visited website more than 3 times in any week of two years period.***"
      ],
      "metadata": {
        "id": "yqGBqQJbukL4"
      }
    },
    {
      "cell_type": "code",
      "source": [
        "ha_df[\"time_stamp\"]=pd.to_datetime(ha_df[\"time_stamp\"])\n",
        "hosa_df=ha_df.set_index(\"time_stamp\")\n",
        "grouped=hosa_df.groupby(\"object_id\")\n",
        "a=grouped.resample(\"W\").agg({\"visited\":\"count\"})\n",
        "average_users=a[a[\"visited\"]>3]\n",
        "average_users"
      ],
      "metadata": {
        "id": "f9jJMWmMvC59"
      },
      "execution_count": null,
      "outputs": []
    },
    {
      "cell_type": "markdown",
      "source": [
        "***Details of persons who visited the website more than 3 times in any week of two years period.***"
      ],
      "metadata": {
        "id": "m1BN62Na0C79"
      }
    },
    {
      "cell_type": "code",
      "source": [
        "ids=average_users.index.get_level_values(\"object_id\").unique()\n",
        "people_ids=np.array(ids)\n",
        "xx=data1[data1[\"object_id\"].isin(people_ids)]\n",
        "xx.drop([\"creation_time\",\"last_session_creation_time\",\n",
        "         \"opted_in_to_mailing_list\",\"enabled_for_marketing_drip\",\n",
        "         \"invited_by_user_id\"],axis=1)"
      ],
      "metadata": {
        "id": "ASLW1OQ9eKpy"
      },
      "execution_count": null,
      "outputs": []
    },
    {
      "cell_type": "markdown",
      "source": [
        "***Share of each mode through which persons who visited website \n",
        "more than 3 times in any week had registered with the product.***\n",
        "\n",
        "***> What does it say is that,***\n",
        "\n",
        "1.Majority of persons who visited the website more than 3 times in any week of two years period belonged to the ***Organisation invite*** mode through which they had registered themselfs with the product.\n",
        "\n",
        "2.Persons who had registered themselfs with product/website through ***Personal projects*** mode are less in number as compared to the others in terms of visiting the website more than 3 times in any week of two years period.\n",
        "\n"
      ],
      "metadata": {
        "id": "fRQuTDCj1tSh"
      }
    },
    {
      "cell_type": "code",
      "source": [
        "xxx=xx[\"creation_source\"].value_counts()\n",
        "zz=xxx.to_frame().reset_index()\n",
        "zz.columns=[\"Mode\",\"Count\"]\n",
        "print(zz)\n",
        "\n",
        "#bargraph\n",
        "\n",
        "sbn.countplot(data=xx,y=\"creation_source\")\n",
        "\n"
      ],
      "metadata": {
        "id": "jqWxBJc3zG2Y"
      },
      "execution_count": null,
      "outputs": []
    },
    {
      "cell_type": "code",
      "source": [
        "#pie chart of the same\n",
        "\n",
        "pic=px.pie(zz,values=\"Count\",names=\"Mode\",hole=0.3)\n",
        "pic"
      ],
      "metadata": {
        "id": "t4hxokcH3k-2"
      },
      "execution_count": null,
      "outputs": []
    }
  ]
}