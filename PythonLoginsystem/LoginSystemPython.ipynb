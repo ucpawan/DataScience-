{
  "nbformat": 4,
  "nbformat_minor": 0,
  "metadata": {
    "colab": {
      "provenance": []
    },
    "kernelspec": {
      "name": "python3",
      "display_name": "Python 3"
    },
    "language_info": {
      "name": "python"
    }
  },
  "cells": [
    {
      "cell_type": "code",
      "execution_count": 2,
      "metadata": {
        "id": "W-Xi5qUp4sdz"
      },
      "outputs": [],
      "source": [
        "import re\n",
        "import json"
      ]
    },
    {
      "cell_type": "code",
      "source": [
        "def register():\n",
        "  with open(\"data.json\",\"r\") as j_file:\n",
        "    data=json.load(j_file)\n",
        "  usernames=[]\n",
        "  passwords=[]\n",
        "  for id in data[\"users\"]:\n",
        "    usernames.append(id[\"username\"])\n",
        "    passwords.append(id[\"password\"])\n",
        "\n",
        "  \n",
        "  username=input(f\"Enter your Email ID as your username: \")\n",
        "  print(f\"Ensure that your password has atleast one uppercase,one special and\"\n",
        "         \",one numeric character\")\n",
        "  print(f\"Length of the password must be between min 5 charcters\"\n",
        "         \" and max 16 characters\")\n",
        "  password=input(f\"Enter your password: \")\n",
        "\n",
        "  details_list=[username,password]\n",
        "  if not any(details_list):\n",
        "    print(f\"Please enter username/password\")\n",
        "    register()\n",
        "\n",
        "  uname_p=r\"\\b[A-Za-z0-9._%+-]+@[A-Za-z0-9.-]+\\.[A-Z|a-z]{2,}\\b\"\n",
        "  pword_p=\"^(?=.*[a-z])(?=.*[A-Z])(?=.*\\d)(?=.*[@$!%*#?&])[A-Za-z\\d@$!#%*?&]{5,16}$\"\n",
        "\n",
        "  if username in usernames:\n",
        "    print(f\"Usename already exists.\\n Provide new username\")\n",
        "    register()\n",
        "  else:\n",
        "    if ((re.fullmatch(uname_p,username)) and (re.fullmatch(pword_p,password))):\n",
        "      print(f\"You are registered successfully\")\n",
        "      data[\"users\"].append({\"username\":username,\"password\":password})\n",
        "      with open(\"data.json\",\"w\") as file:\n",
        "        json.dump(data,file,indent=4)\n",
        "      login()\n",
        "    else:\n",
        "      print(\"Your username/password is not as per requirements.\")\n",
        "      print(f\"Please enter your details once again\")\n",
        "      register()\n",
        "\n",
        "      "
      ],
      "metadata": {
        "id": "OZpoUXj5P-yV"
      },
      "execution_count": 20,
      "outputs": []
    },
    {
      "cell_type": "code",
      "source": [
        "def login():\n",
        "  username=input(f\"Enter your username: \")\n",
        "  password=input(f'Enter your password: ')\n",
        "  with open(\"data.json\",\"r\") as j_f:\n",
        "    data=json.load(j_f)\n",
        "  usernames=[]\n",
        "  passwords=[]\n",
        "  for id in data[\"users\"]:\n",
        "    usernames.append(id[\"username\"])\n",
        "    passwords.append(id[\"password\"])\n",
        "\n",
        "  info=dict(zip(usernames,passwords))\n",
        "  if username in info.keys():\n",
        "    if info[username]==password:\n",
        "      print(f\"You have logged in successfully!\")\n",
        "    else:\n",
        "      print(f\"Incorrect password\")\n",
        "      print(f\"Enter your credentials again\")\n",
        "      login()\n",
        "  else:\n",
        "    print(f\"Username doesn't exist.Go register yourself\")\n",
        "    return register()\n"
      ],
      "metadata": {
        "id": "dRq10jJ73RgY"
      },
      "execution_count": 14,
      "outputs": []
    },
    {
      "cell_type": "code",
      "source": [
        "def forgot_password():\n",
        "  print(f\"1 = Reset password\")\n",
        "  print(f\"0 = Retrieve password\")\n",
        "  choice=int(input(f\"Enter your choice: \"))\n",
        "  if choice==0:\n",
        "    username=input(\"Enter your username: \")\n",
        "    if not username:\n",
        "      print(f\"Please enter your username: \")\n",
        "      forgot_password()\n",
        "    with open(\"data.json\",\"r\") as j_f:\n",
        "      data=json.load(j_f)\n",
        "      j_f.close()\n",
        "    usernames=[]\n",
        "    passwords=[]\n",
        "    for id in data[\"users\"]:\n",
        "      usernames.append(id[\"username\"])\n",
        "      passwords.append(id[\"password\"])\n",
        "    info=dict(zip(usernames,passwords))\n",
        "    if username in usernames:\n",
        "      old_password=info[username]\n",
        "      print(f\"Your password is {old_password}\")\n",
        "      print(f\"Returning to login page.\")\n",
        "      print(f\"Login using retrieved password\")\n",
        "      return login()\n",
        "    else:\n",
        "      print(f\"You have entered wrong username.\\n enter valid username\")\n",
        "      return forgot_password()\n",
        "  elif choice==1:\n",
        "    with open(\"data.json\",\"r\") as j_f:\n",
        "      data=json.load(j_f)\n",
        "    username=input(f\"Enter your username: \")\n",
        "    new_password=input(\"Enter your new password: \")\n",
        "    pword_p=\"^(?=.*[a-z])(?=.*[A-Z])(?=.*\\d)(?=.*[@$!%*#?&])[A-Za-z\\d@$!#%*?&]{5,16}$\"\n",
        "    if re.fullmatch(pword_p,new_password):\n",
        "      print(f\"You have changed your password succesfully!\")\n",
        "      for item in data[\"users\"]:\n",
        "        if item[\"username\"]==username:\n",
        "          item[\"password\"]=new_password\n",
        "      with open(\"data.json\",\"w\") as j_file:\n",
        "        json.dump(data,j_file,indent=4)\n",
        "      login()\n",
        "    else:\n",
        "      print(f\"Password not entered as per requirements\")\n",
        "      print(f\"Enter password once again\")\n",
        "      forgot_password()\n",
        "  else:\n",
        "    print(f\"Enter valid choice\")\n",
        "    forgot_password()\n"
      ],
      "metadata": {
        "id": "6lbsZH4nXcgA"
      },
      "execution_count": 29,
      "outputs": []
    },
    {
      "cell_type": "code",
      "source": [
        "def main():\n",
        "  print(f\"Welcome! Pick any one among the following options to continue.\")\n",
        "  print(f\"1 = Login\")\n",
        "  print(f\"2 = Signup\")\n",
        "  print(f\"3 = Forgot password\")\n",
        "  option=input(\"Enter your option: \")\n",
        "  if not option:\n",
        "    print(f\"No entries.Enter again: \")\n",
        "    main()\n",
        "  if int(option)==1:\n",
        "    return login()\n",
        "  elif int(option)==2:\n",
        "    return register()\n",
        "  elif int(option)==3:\n",
        "    return forgot_password()\n",
        "  else:\n",
        "    print(f\"Enter valid option\")\n",
        "    return main()\n",
        "main()"
      ],
      "metadata": {
        "id": "JNvW98x8YW8t"
      },
      "execution_count": null,
      "outputs": []
    }
  ]
}